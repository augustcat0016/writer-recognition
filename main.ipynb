{
 "cells": [
  {
   "cell_type": "code",
   "execution_count": 1,
   "metadata": {
    "collapsed": true
   },
   "outputs": [],
   "source": [
    "import CONFIG\n",
    "import os\n",
    "import numpy as np\n",
    "import torch\n",
    "import matplotlib.pyplot as plt\n",
    "from torch.nn.utils import clip_grad_norm_\n",
    "from torch.utils.data import TensorDataset, DataLoader\n",
    "from transformers import BertTokenizer, AdamW\n",
    "from transformers import get_linear_schedule_with_warmup\n",
    "from transformers import BertForSequenceClassification\n",
    "from processing_data import convert_text_to_token, processing_data, dataloader_maker\n",
    "from recognition import train, model_loading, predict\n",
    "from sklearn.model_selection import train_test_split"
   ]
  },
  {
   "cell_type": "code",
   "execution_count": 2,
   "outputs": [],
   "source": [
    "tokenizer = BertTokenizer.from_pretrained(CONFIG.CACHE_DIR)\n",
    "data, labels, masks = processing_data(CONFIG.DATA_PATH, tokenizer)\n"
   ],
   "metadata": {
    "collapsed": false,
    "pycharm": {
     "name": "#%%\n"
    }
   }
  },
  {
   "cell_type": "code",
   "execution_count": 3,
   "outputs": [],
   "source": [
    "train_dataloader, valid_dataloader = dataloader_maker(data, masks, labels)\n",
    "print(len(train_dataloader))\n",
    "print(len(valid_dataloader))\n"
   ],
   "metadata": {
    "collapsed": false,
    "pycharm": {
     "name": "#%%\n"
    }
   }
  },
  {
   "cell_type": "code",
   "execution_count": 4,
   "outputs": [],
   "source": [
    "train(train_dataloader, valid_dataloader, 2)\n",
    "tokenizer.save_vocabulary(CONFIG.MODEL_SAVE_DIR)\n"
   ],
   "metadata": {
    "collapsed": false,
    "pycharm": {
     "name": "#%%\n"
    }
   }
  },
  {
   "cell_type": "code",
   "execution_count": 5,
   "outputs": [],
   "source": [
    "\n",
    "sen = \"露天的石碾上，落着两只深蓝的乌鸦。村里的人，都集中在我家烧酒作坊前一个土场上。这场上曾经铺红叠丹，堆满了我家收购的红高粱。那时候奶奶常常手持白尾拂尘，姗姗移动着小脚，看着我家醉醺醺的伙计，用木斗收购高粱，奶奶的脸上染着灿烂的朝霞。\"\n"
   ],
   "metadata": {
    "collapsed": false,
    "pycharm": {
     "name": "#%%\n"
    }
   }
  },
  {
   "cell_type": "code",
   "execution_count": 6,
   "outputs": [
    {
     "name": "stdout",
     "output_type": "stream",
     "text": [
      "MY\n"
     ]
    }
   ],
   "source": [
    "label_list = CONFIG.WRITER_LIST\n",
    "prediction = predict(sen)\n",
    "print(label_list[prediction])\n"
   ],
   "metadata": {
    "collapsed": false,
    "pycharm": {
     "name": "#%%\n"
    }
   }
  }
 ],
 "metadata": {
  "kernelspec": {
   "display_name": "Python 3",
   "language": "python",
   "name": "python3"
  },
  "language_info": {
   "codemirror_mode": {
    "name": "ipython",
    "version": 2
   },
   "file_extension": ".py",
   "mimetype": "text/x-python",
   "name": "python",
   "nbconvert_exporter": "python",
   "pygments_lexer": "ipython2",
   "version": "2.7.6"
  }
 },
 "nbformat": 4,
 "nbformat_minor": 0
}